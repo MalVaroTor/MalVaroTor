{
  "nbformat": 4,
  "nbformat_minor": 0,
  "metadata": {
    "colab": {
      "provenance": [],
      "mount_file_id": "1bK_mk1Sb4vglpikDGjjig1liCmmKEn44",
      "authorship_tag": "ABX9TyPpzUN5SzxqZ9LMKkC+j9GC",
      "include_colab_link": true
    },
    "kernelspec": {
      "name": "python3",
      "display_name": "Python 3"
    },
    "language_info": {
      "name": "python"
    }
  },
  "cells": [
    {
      "cell_type": "markdown",
      "metadata": {
        "id": "view-in-github",
        "colab_type": "text"
      },
      "source": [
        "<a href=\"https://colab.research.google.com/github/MalVaroTor/MalVaroTor/blob/main/TCC_5_EFICIENCIA_OPER.ipynb\" target=\"_parent\"><img src=\"https://colab.research.google.com/assets/colab-badge.svg\" alt=\"Open In Colab\"/></a>"
      ]
    },
    {
      "cell_type": "markdown",
      "source": [
        "# **SCRIPT DO CÁLCULO DE EFICIÊNCIA PARA 2 OPERAÇÕES.**\n",
        "\n",
        "---\n",
        "\n"
      ],
      "metadata": {
        "id": "_eziqVi8fqYB"
      }
    },
    {
      "cell_type": "code",
      "source": [
        "12#   from google.colab import drive\n",
        "#   drive.mount('/content/drive')\n",
        "\n",
        "#   IMPORTANDO O ARQUIVO E LENDO A TABELA ESPECIFICADA.\n",
        "\n",
        "import pandas as pd                     # IMPORTANDO BIBLIOTECA PARA DADOS\n",
        "import matplotlib.pyplot as plt         # IMPORTANDO BIBLIOTECA PARA GRÁFICOS.\n",
        "import numpy as np                      # IMPOTANDO BIBLIOTECA PARA TRABALHAR COM NÚMEROS.\n",
        "import matplotlib.dates as mdates\n",
        "import statistics\n",
        "\n",
        "db = pd.read_excel('/content/drive/MyDrive/TCC/db_dados/all_dados_I_V_T.xlsx')\n",
        "\n",
        "# TRANSFORMANDO A COLUNA 'Data' DE FROMATO OBJECT PARA DATETIME.\n",
        "db['Data'] = pd.to_datetime(db['Data'])\n",
        "\n",
        "# TRANSFORMANDO A COLUNA DATA NO FORMATO 'DD/MM/AAA'.\n",
        "db['Data'] = db['Data'].dt.strftime('%d/%m/%Y')\n",
        "\n",
        "# ------------------------------------------------------------------------------------------------------------------------\n",
        "\n",
        "db_data_estudo = input('Digite a data de operação: ')\n",
        "\n",
        "db_data_estudo = pd.to_datetime(db_data_estudo)\n",
        "db_data_estudo = db[db['Data/Hora'].dt.date == pd.to_datetime(db_data_estudo).date()]\n",
        "\n",
        "# ------------------------------------------------------------------------------------------------------------------------\n",
        "\n",
        "# DATAS LIMITES DA PRIMEIRA OPERAÇÃO.\n",
        "hora_inicio = input(\"Digite a hora inicial do PowerSet de produção no formato 'HH:MM:SS': \")\n",
        "hora_fim = input(\"Digite a hora final do PowerSet de produção no formato 'HH:MM:SS': \")\n",
        "# Filtrar os dados dentro do intervalo de horário\n",
        "db_hr_estudo = db_data_estudo[(db_data_estudo['Data/Hora'].dt.time >= pd.to_datetime(hora_inicio).time()) &\n",
        "                                                (db_data_estudo['Data/Hora'].dt.time <= pd.to_datetime(hora_fim).time())]\n",
        "\n",
        "# ------------------------------------------------------------------------------------------------------------------------\n",
        "\n",
        "# DATAS LIMITES DA SEGUNDA OPERAÇÃO.\n",
        "\n",
        "hora_inicio2 = hora_fim\n",
        "hora_fim2 = db_data_estudo['Data/Hora'].max()\n",
        "\n",
        "# Filtrar os dados dentro do intervalo de horário\n",
        "db_hr_estudo2 = db_data_estudo[(db_data_estudo['Data/Hora'].dt.time >= pd.to_datetime(hora_inicio2).time()) &\n",
        "                                                (db_data_estudo['Data/Hora'].dt.time <= pd.to_datetime(hora_fim2).time())]\n",
        "\n",
        "# ------------------------------------------------------------------------------------------------------------------------\n",
        "\n",
        "# LIMITANDO A PRIMEIRA OPERAÇÃO COM POWERSET A 70%.\n",
        "ps_entrada = 70\n",
        "ps_entrada = float(ps_entrada)\n",
        "db_ps_estudo = db_hr_estudo.loc[db_hr_estudo['PowerSet_[%]'] >= ps_entrada]\n",
        "\n",
        "# LIMITANDO A SEGUNDA OPERAÇÃO COM POWERSET A 70%.\n",
        "db_ps_estudo2 = db_hr_estudo2.loc[db_hr_estudo2['PowerSet_[%]'] >= ps_entrada]\n",
        "\n",
        "# ------------------------------------------------------------------------------------------------------------------------\n",
        "\n",
        "# DETERMINANDO O TEMPO PARA A PRIMEIRA OPERAÇÃO.\n",
        "primeira_hora = db_ps_estudo['Data/Hora'].min()\n",
        "ultima_hora = db_ps_estudo['Data/Hora'].max()\n",
        "\n",
        "print(\"Primeira hora da 1º Operação:\", primeira_hora)\n",
        "print(\"Última hora da 1º Operação:\", ultima_hora)\n",
        "\n",
        "tempo = ultima_hora - primeira_hora\n",
        "\n",
        "print(\"Diferença de Horário Data/time:\", tempo)\n",
        "\n",
        "tempo = int(tempo.total_seconds())\n",
        "\n",
        "print(\"Diferença de Horário em Segundos da 1º Operação:\", tempo)\n",
        "\n",
        "tempo = float(tempo/3600)\n",
        "tempo = round(tempo, 3)\n",
        "\n",
        "print(\"Diferença de Horário em Horas  da 1º Operação:\", tempo)\n",
        "# ------------------------------------------------------------------------------------------------------------------------\n",
        "# DETERMINANDO O TEMPO PARA A PRIMEIRA OPERAÇÃO.\n",
        "\n",
        "primeira_hora2 = db_ps_estudo2['Data/Hora'].min()\n",
        "ultima_hora2 = db_ps_estudo2['Data/Hora'].max()\n",
        "\n",
        "print(\"Primeira hora da 2º Operação:\", primeira_hora2)\n",
        "print(\"Última hora da 2º Operação:\", ultima_hora2)\n",
        "\n",
        "tempo2 = ultima_hora2 - primeira_hora2\n",
        "\n",
        "print(\"Diferença de Horário Data/time:\", tempo2)\n",
        "\n",
        "tempo2 = int(tempo2.total_seconds())\n",
        "\n",
        "print(\"Diferença de Horário em Segundos da 2º Operação:\", tempo2)\n",
        "\n",
        "tempo2 = float(tempo2/3600)\n",
        "tempo2 = round(tempo2, 3)\n",
        "\n",
        "print(\"Diferença de Horário em Horas da 2º Operação:\", tempo2)"
      ],
      "metadata": {
        "id": "RajcQHUddeWC",
        "colab": {
          "base_uri": "https://localhost:8080/"
        },
        "outputId": "2d296617-b822-4248-ee48-66f6d22aaf92"
      },
      "execution_count": null,
      "outputs": [
        {
          "output_type": "stream",
          "name": "stderr",
          "text": [
            "<ipython-input-87-3f533aef21cb>:15: UserWarning: Parsing dates in DD/MM/YYYY format when dayfirst=False (the default) was specified. This may lead to inconsistently parsed dates! Specify a format to ensure consistent parsing.\n",
            "  db['Data'] = pd.to_datetime(db['Data'])\n"
          ]
        },
        {
          "output_type": "stream",
          "name": "stdout",
          "text": [
            "Digite a data de operação: 2023-10-26\n",
            "Digite a hora inicial do PowerSet de produção no formato 'HH:MM:SS': 09:00:00\n",
            "Digite a hora final do PowerSet de produção no formato 'HH:MM:SS': 12:00:00\n",
            "Primeira hora da 1º Operação: 2023-10-26 09:50:57.870000\n",
            "Última hora da 1º Operação: 2023-10-26 11:37:27.870000\n",
            "Diferença de Horário Data/time: 0 days 01:46:30\n",
            "Diferença de Horário em Segundos da 1º Operação: 6390\n",
            "Diferença de Horário em Horas  da 1º Operação: 1.775\n",
            "Primeira hora da 2º Operação: 2023-10-26 14:43:34.254000\n",
            "Última hora da 2º Operação: 2023-10-26 15:54:34.254000\n",
            "Diferença de Horário Data/time: 0 days 01:11:00\n",
            "Diferença de Horário em Segundos da 2º Operação: 4260\n",
            "Diferença de Horário em Horas da 2º Operação: 1.183\n"
          ]
        }
      ]
    },
    {
      "cell_type": "markdown",
      "source": [
        "# **SCRIPT DO CÁLCULO DE EFICIÊNCIA PARA 1 OPERAÇÃO.**\n",
        "\n",
        "---\n"
      ],
      "metadata": {
        "id": "SlNutb0qrmJc"
      }
    },
    {
      "cell_type": "code",
      "source": [
        "#   from google.colab import drive\n",
        "#   drive.mount('/content/drive')\n",
        "\n",
        "#   IMPORTANDO O ARQUIVO E LENDO A TABELA ESPECIFICADA.\n",
        "\n",
        "import pandas as pd                     # IMPORTANDO BIBLIOTECA PARA DADOS\n",
        "import matplotlib.pyplot as plt         # IMPORTANDO BIBLIOTECA PARA GRÁFICOS.\n",
        "import numpy as np                      # IMPOTANDO BIBLIOTECA PARA TRABALHAR COM NÚMEROS.\n",
        "import matplotlib.dates as mdates\n",
        "import statistics\n",
        "\n",
        "db = pd.read_excel('/content/drive/MyDrive/TCC/db_dados/all_dados_I_V_T.xlsx')\n",
        "\n",
        "# TRANSFORMANDO A COLUNA 'Data' DE FROMATO OBJECT PARA DATETIME.\n",
        "db['Data'] = pd.to_datetime(db['Data'])\n",
        "\n",
        "# TRANSFORMANDO A COLUNA DATA NO FORMATO 'DD/MM/AAA'.\n",
        "db['Data'] = db['Data'].dt.strftime('%d/%m/%Y')\n",
        "\n",
        "# ------------------------------------------------------------------------------------------------------------------------\n",
        "\n",
        "db_data_estudo = input('Digite a data de operação: ')\n",
        "\n",
        "db_data_estudo = pd.to_datetime(db_data_estudo)\n",
        "db_data_estudo = db[db['Data/Hora'].dt.date == pd.to_datetime(db_data_estudo).date()]\n",
        "\n",
        "# ------------------------------------------------------------------------------------------------------------------------\n",
        "\n",
        "ps_entrada = 70\n",
        "ps_entrada = float(ps_entrada)\n",
        "db_ps_estudo = db_data_estudo.loc[db_data_estudo['PowerSet_[%]'] >= ps_entrada]\n",
        "\n",
        "# ------------------------------------------------------------------------------------------------------------------------\n",
        "\n",
        "primeira_hora = db_ps_estudo['Data/Hora'].min()\n",
        "ultima_hora = db_ps_estudo['Data/Hora'].max()\n",
        "\n",
        "print(\"Primeira hora:\", primeira_hora)\n",
        "print(\"Última hora:\", ultima_hora)\n",
        "\n",
        "tempo = ultima_hora - primeira_hora\n",
        "\n",
        "print(\"Diferença de Horário Data/time:\", tempo)\n",
        "\n",
        "tempo = int(tempo.total_seconds())\n",
        "\n",
        "print(\"Diferença de Horário em Segundos:\", tempo)\n",
        "\n",
        "tempo = float(tempo/3600)\n",
        "tempo = round(tempo, 3)\n",
        "\n",
        "print(\"Diferença de Horário em Horas:\", tempo)"
      ],
      "metadata": {
        "colab": {
          "base_uri": "https://localhost:8080/",
          "height": 335
        },
        "id": "LFJaSPJTrq3d",
        "outputId": "169b75bd-b9d1-466e-8e3f-20f91762315d"
      },
      "execution_count": null,
      "outputs": [
        {
          "output_type": "stream",
          "name": "stderr",
          "text": [
            "<ipython-input-89-7daae1b9df37>:15: UserWarning: Parsing dates in DD/MM/YYYY format when dayfirst=False (the default) was specified. This may lead to inconsistently parsed dates! Specify a format to ensure consistent parsing.\n",
            "  db['Data'] = pd.to_datetime(db['Data'])\n"
          ]
        },
        {
          "output_type": "stream",
          "name": "stdout",
          "text": [
            "Digite a data de operação: 2023-10-25\n",
            "Primeira hora: NaT\n",
            "Última hora: NaT\n",
            "Diferença de Horário Data/time: NaT\n"
          ]
        },
        {
          "output_type": "error",
          "ename": "ValueError",
          "evalue": "cannot convert float NaN to integer",
          "traceback": [
            "\u001b[0;31m---------------------------------------------------------------------------\u001b[0m",
            "\u001b[0;31mValueError\u001b[0m                                Traceback (most recent call last)",
            "\u001b[0;32m<ipython-input-89-7daae1b9df37>\u001b[0m in \u001b[0;36m<cell line: 45>\u001b[0;34m()\u001b[0m\n\u001b[1;32m     43\u001b[0m \u001b[0mprint\u001b[0m\u001b[0;34m(\u001b[0m\u001b[0;34m\"Diferença de Horário Data/time:\"\u001b[0m\u001b[0;34m,\u001b[0m \u001b[0mtempo\u001b[0m\u001b[0;34m)\u001b[0m\u001b[0;34m\u001b[0m\u001b[0;34m\u001b[0m\u001b[0m\n\u001b[1;32m     44\u001b[0m \u001b[0;34m\u001b[0m\u001b[0m\n\u001b[0;32m---> 45\u001b[0;31m \u001b[0mtempo\u001b[0m \u001b[0;34m=\u001b[0m \u001b[0mint\u001b[0m\u001b[0;34m(\u001b[0m\u001b[0mtempo\u001b[0m\u001b[0;34m.\u001b[0m\u001b[0mtotal_seconds\u001b[0m\u001b[0;34m(\u001b[0m\u001b[0;34m)\u001b[0m\u001b[0;34m)\u001b[0m\u001b[0;34m\u001b[0m\u001b[0;34m\u001b[0m\u001b[0m\n\u001b[0m\u001b[1;32m     46\u001b[0m \u001b[0;34m\u001b[0m\u001b[0m\n\u001b[1;32m     47\u001b[0m \u001b[0mprint\u001b[0m\u001b[0;34m(\u001b[0m\u001b[0;34m\"Diferença de Horário em Segundos:\"\u001b[0m\u001b[0;34m,\u001b[0m \u001b[0mtempo\u001b[0m\u001b[0;34m)\u001b[0m\u001b[0;34m\u001b[0m\u001b[0;34m\u001b[0m\u001b[0m\n",
            "\u001b[0;31mValueError\u001b[0m: cannot convert float NaN to integer"
          ]
        }
      ]
    }
  ]
}