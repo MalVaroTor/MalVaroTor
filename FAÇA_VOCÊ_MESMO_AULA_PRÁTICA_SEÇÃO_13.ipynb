{
  "nbformat": 4,
  "nbformat_minor": 0,
  "metadata": {
    "colab": {
      "name": "FAÇA VOCÊ MESMO - AULA PRÁTICA SEÇÃO 13.ipynb",
      "provenance": [],
      "mount_file_id": "1jiM5HtEgp8lVOMiu0uci0apuAA6G9lTf",
      "authorship_tag": "ABX9TyNooP00admkgNf6MBJ6t5E4",
      "include_colab_link": true
    },
    "kernelspec": {
      "name": "python3",
      "display_name": "Python 3"
    },
    "language_info": {
      "name": "python"
    }
  },
  "cells": [
    {
      "cell_type": "markdown",
      "metadata": {
        "id": "view-in-github",
        "colab_type": "text"
      },
      "source": [
        "<a href=\"https://colab.research.google.com/github/MalVaroTor/MalVaroTor/blob/main/FA%C3%87A_VOC%C3%8A_MESMO_AULA_PR%C3%81TICA_SE%C3%87%C3%83O_13.ipynb\" target=\"_parent\"><img src=\"https://colab.research.google.com/assets/colab-badge.svg\" alt=\"Open In Colab\"/></a>"
      ]
    },
    {
      "cell_type": "markdown",
      "source": [
        "# FAÇA VOCÊ MESMO - AULA PRÁTICA SEÇÃO 13"
      ],
      "metadata": {
        "id": "XI_ftQIAvb82"
      }
    },
    {
      "cell_type": "code",
      "execution_count": null,
      "metadata": {
        "colab": {
          "base_uri": "https://localhost:8080/",
          "height": 424
        },
        "id": "XiwjP5VR1VdD",
        "outputId": "9c6416af-5480-484a-9f24-c6e17feaf7b6"
      },
      "outputs": [
        {
          "output_type": "display_data",
          "data": {
            "text/plain": [
              "     CODIGO                MUNICIPIO       PIB  VALOREMPENHO\n",
              "0       106    SANTANA DO LIVRAMENTO  12240.76    1088666.10\n",
              "1       113             SANTO ANGELO  16575.82     800669.92\n",
              "2       118   SAO FRANCISCO DE ASSIS  12037.61     466122.80\n",
              "3        13          CACAPAVA DO SUL  13674.54     485535.86\n",
              "4       120              SAO GABRIEL  19912.38     533719.86\n",
              "..      ...                      ...       ...           ...\n",
              "182     372  SANTA VITORIA DO PALMAR  27170.89        760.00\n",
              "183     107     SANTA BARBARA DO SUL  29654.02        365.00\n",
              "184      54           GETULIO VARGAS  16876.33        233.01\n",
              "185     382          NOVA SANTA RITA  25938.38        310.58\n",
              "186      60      GUARANI DAS MISSOES  24363.31        172.13\n",
              "\n",
              "[187 rows x 4 columns]"
            ],
            "text/html": [
              "\n",
              "  <div id=\"df-c651b85b-8865-47fe-935f-0d3e89d577b8\">\n",
              "    <div class=\"colab-df-container\">\n",
              "      <div>\n",
              "<style scoped>\n",
              "    .dataframe tbody tr th:only-of-type {\n",
              "        vertical-align: middle;\n",
              "    }\n",
              "\n",
              "    .dataframe tbody tr th {\n",
              "        vertical-align: top;\n",
              "    }\n",
              "\n",
              "    .dataframe thead th {\n",
              "        text-align: right;\n",
              "    }\n",
              "</style>\n",
              "<table border=\"1\" class=\"dataframe\">\n",
              "  <thead>\n",
              "    <tr style=\"text-align: right;\">\n",
              "      <th></th>\n",
              "      <th>CODIGO</th>\n",
              "      <th>MUNICIPIO</th>\n",
              "      <th>PIB</th>\n",
              "      <th>VALOREMPENHO</th>\n",
              "    </tr>\n",
              "  </thead>\n",
              "  <tbody>\n",
              "    <tr>\n",
              "      <th>0</th>\n",
              "      <td>106</td>\n",
              "      <td>SANTANA DO LIVRAMENTO</td>\n",
              "      <td>12240.76</td>\n",
              "      <td>1088666.10</td>\n",
              "    </tr>\n",
              "    <tr>\n",
              "      <th>1</th>\n",
              "      <td>113</td>\n",
              "      <td>SANTO ANGELO</td>\n",
              "      <td>16575.82</td>\n",
              "      <td>800669.92</td>\n",
              "    </tr>\n",
              "    <tr>\n",
              "      <th>2</th>\n",
              "      <td>118</td>\n",
              "      <td>SAO FRANCISCO DE ASSIS</td>\n",
              "      <td>12037.61</td>\n",
              "      <td>466122.80</td>\n",
              "    </tr>\n",
              "    <tr>\n",
              "      <th>3</th>\n",
              "      <td>13</td>\n",
              "      <td>CACAPAVA DO SUL</td>\n",
              "      <td>13674.54</td>\n",
              "      <td>485535.86</td>\n",
              "    </tr>\n",
              "    <tr>\n",
              "      <th>4</th>\n",
              "      <td>120</td>\n",
              "      <td>SAO GABRIEL</td>\n",
              "      <td>19912.38</td>\n",
              "      <td>533719.86</td>\n",
              "    </tr>\n",
              "    <tr>\n",
              "      <th>...</th>\n",
              "      <td>...</td>\n",
              "      <td>...</td>\n",
              "      <td>...</td>\n",
              "      <td>...</td>\n",
              "    </tr>\n",
              "    <tr>\n",
              "      <th>182</th>\n",
              "      <td>372</td>\n",
              "      <td>SANTA VITORIA DO PALMAR</td>\n",
              "      <td>27170.89</td>\n",
              "      <td>760.00</td>\n",
              "    </tr>\n",
              "    <tr>\n",
              "      <th>183</th>\n",
              "      <td>107</td>\n",
              "      <td>SANTA BARBARA DO SUL</td>\n",
              "      <td>29654.02</td>\n",
              "      <td>365.00</td>\n",
              "    </tr>\n",
              "    <tr>\n",
              "      <th>184</th>\n",
              "      <td>54</td>\n",
              "      <td>GETULIO VARGAS</td>\n",
              "      <td>16876.33</td>\n",
              "      <td>233.01</td>\n",
              "    </tr>\n",
              "    <tr>\n",
              "      <th>185</th>\n",
              "      <td>382</td>\n",
              "      <td>NOVA SANTA RITA</td>\n",
              "      <td>25938.38</td>\n",
              "      <td>310.58</td>\n",
              "    </tr>\n",
              "    <tr>\n",
              "      <th>186</th>\n",
              "      <td>60</td>\n",
              "      <td>GUARANI DAS MISSOES</td>\n",
              "      <td>24363.31</td>\n",
              "      <td>172.13</td>\n",
              "    </tr>\n",
              "  </tbody>\n",
              "</table>\n",
              "<p>187 rows × 4 columns</p>\n",
              "</div>\n",
              "      <button class=\"colab-df-convert\" onclick=\"convertToInteractive('df-c651b85b-8865-47fe-935f-0d3e89d577b8')\"\n",
              "              title=\"Convert this dataframe to an interactive table.\"\n",
              "              style=\"display:none;\">\n",
              "        \n",
              "  <svg xmlns=\"http://www.w3.org/2000/svg\" height=\"24px\"viewBox=\"0 0 24 24\"\n",
              "       width=\"24px\">\n",
              "    <path d=\"M0 0h24v24H0V0z\" fill=\"none\"/>\n",
              "    <path d=\"M18.56 5.44l.94 2.06.94-2.06 2.06-.94-2.06-.94-.94-2.06-.94 2.06-2.06.94zm-11 1L8.5 8.5l.94-2.06 2.06-.94-2.06-.94L8.5 2.5l-.94 2.06-2.06.94zm10 10l.94 2.06.94-2.06 2.06-.94-2.06-.94-.94-2.06-.94 2.06-2.06.94z\"/><path d=\"M17.41 7.96l-1.37-1.37c-.4-.4-.92-.59-1.43-.59-.52 0-1.04.2-1.43.59L10.3 9.45l-7.72 7.72c-.78.78-.78 2.05 0 2.83L4 21.41c.39.39.9.59 1.41.59.51 0 1.02-.2 1.41-.59l7.78-7.78 2.81-2.81c.8-.78.8-2.07 0-2.86zM5.41 20L4 18.59l7.72-7.72 1.47 1.35L5.41 20z\"/>\n",
              "  </svg>\n",
              "      </button>\n",
              "      \n",
              "  <style>\n",
              "    .colab-df-container {\n",
              "      display:flex;\n",
              "      flex-wrap:wrap;\n",
              "      gap: 12px;\n",
              "    }\n",
              "\n",
              "    .colab-df-convert {\n",
              "      background-color: #E8F0FE;\n",
              "      border: none;\n",
              "      border-radius: 50%;\n",
              "      cursor: pointer;\n",
              "      display: none;\n",
              "      fill: #1967D2;\n",
              "      height: 32px;\n",
              "      padding: 0 0 0 0;\n",
              "      width: 32px;\n",
              "    }\n",
              "\n",
              "    .colab-df-convert:hover {\n",
              "      background-color: #E2EBFA;\n",
              "      box-shadow: 0px 1px 2px rgba(60, 64, 67, 0.3), 0px 1px 3px 1px rgba(60, 64, 67, 0.15);\n",
              "      fill: #174EA6;\n",
              "    }\n",
              "\n",
              "    [theme=dark] .colab-df-convert {\n",
              "      background-color: #3B4455;\n",
              "      fill: #D2E3FC;\n",
              "    }\n",
              "\n",
              "    [theme=dark] .colab-df-convert:hover {\n",
              "      background-color: #434B5C;\n",
              "      box-shadow: 0px 1px 3px 1px rgba(0, 0, 0, 0.15);\n",
              "      filter: drop-shadow(0px 1px 2px rgba(0, 0, 0, 0.3));\n",
              "      fill: #FFFFFF;\n",
              "    }\n",
              "  </style>\n",
              "\n",
              "      <script>\n",
              "        const buttonEl =\n",
              "          document.querySelector('#df-c651b85b-8865-47fe-935f-0d3e89d577b8 button.colab-df-convert');\n",
              "        buttonEl.style.display =\n",
              "          google.colab.kernel.accessAllowed ? 'block' : 'none';\n",
              "\n",
              "        async function convertToInteractive(key) {\n",
              "          const element = document.querySelector('#df-c651b85b-8865-47fe-935f-0d3e89d577b8');\n",
              "          const dataTable =\n",
              "            await google.colab.kernel.invokeFunction('convertToInteractive',\n",
              "                                                     [key], {});\n",
              "          if (!dataTable) return;\n",
              "\n",
              "          const docLinkHtml = 'Like what you see? Visit the ' +\n",
              "            '<a target=\"_blank\" href=https://colab.research.google.com/notebooks/data_table.ipynb>data table notebook</a>'\n",
              "            + ' to learn more about interactive tables.';\n",
              "          element.innerHTML = '';\n",
              "          dataTable['output_type'] = 'display_data';\n",
              "          await google.colab.output.renderOutput(dataTable, element);\n",
              "          const docLink = document.createElement('div');\n",
              "          docLink.innerHTML = docLinkHtml;\n",
              "          element.appendChild(docLink);\n",
              "        }\n",
              "      </script>\n",
              "    </div>\n",
              "  </div>\n",
              "  "
            ]
          },
          "metadata": {}
        }
      ],
      "source": [
        "# IMPORTAÇÃO DOS PACOTES\n",
        "\n",
        "import pandas as pd\n",
        "import numpy as np\n",
        "import matplotlib.pyplot as plt\n",
        "import statistics as sts\n",
        "import seaborn as srn\n",
        "\n",
        "# IMPORTAÇÃO DA BASE DE DADOS\n",
        "base_de_dados = pd.read_csv(\"/content/drive/MyDrive/Arquivos Curso Cientista de Dados/13.Prática em Python/dados/dados.csv\", sep=\";\")\n",
        "bd = base_de_dados\n",
        "display (bd)"
      ]
    },
    {
      "cell_type": "markdown",
      "source": [
        "---\n",
        "ACIMA É MOSTRADO A BASE DE DADOS DE FORMA BEM VISUALIZADA.\n",
        "\n",
        "---"
      ],
      "metadata": {
        "id": "-ckYSUI-DOSZ"
      }
    },
    {
      "cell_type": "code",
      "source": [
        "# VERIFICAÇÃO DOS DADOS NÃO DISPONÍVEIS\n",
        "bd.isnull().sum()"
      ],
      "metadata": {
        "colab": {
          "base_uri": "https://localhost:8080/"
        },
        "id": "dmUmzr0j3E8u",
        "outputId": "cf93694b-a2f4-4b8a-94df-baded1281bf7"
      },
      "execution_count": null,
      "outputs": [
        {
          "output_type": "execute_result",
          "data": {
            "text/plain": [
              "CODIGO          0\n",
              "MUNICIPIO       0\n",
              "PIB             0\n",
              "VALOREMPENHO    0\n",
              "dtype: int64"
            ]
          },
          "metadata": {},
          "execution_count": 29
        }
      ]
    },
    {
      "cell_type": "markdown",
      "source": [
        "---\n",
        "ACIMA TEMOS A QUANTIDADE DE DADOS QUE POSSUEM VALORES NÃO DISPONÍVEIS, E COMO É MOSTRADO, NÃO HÁ VALORES NÃO DISPONÍVEIS NESSE BANCO DE DADOS.\n",
        "\n",
        "---"
      ],
      "metadata": {
        "id": "Rh4Z3n4GFJJf"
      }
    },
    {
      "cell_type": "code",
      "source": [
        "# EXCLUIR A COLUNA \"CODIGO\"\n",
        "bd = bd[[\"MUNICIPIO\", \"PIB\", \"VALOREMPENHO\"]]\n",
        "display(bd)"
      ],
      "metadata": {
        "colab": {
          "base_uri": "https://localhost:8080/",
          "height": 424
        },
        "id": "dnbtIr6B5A8P",
        "outputId": "7dfe57b6-6525-4153-c21d-72a7db5ebe3b"
      },
      "execution_count": null,
      "outputs": [
        {
          "output_type": "display_data",
          "data": {
            "text/plain": [
              "                   MUNICIPIO       PIB  VALOREMPENHO\n",
              "0      SANTANA DO LIVRAMENTO  12240.76    1088666.10\n",
              "1               SANTO ANGELO  16575.82     800669.92\n",
              "2     SAO FRANCISCO DE ASSIS  12037.61     466122.80\n",
              "3            CACAPAVA DO SUL  13674.54     485535.86\n",
              "4                SAO GABRIEL  19912.38     533719.86\n",
              "..                       ...       ...           ...\n",
              "182  SANTA VITORIA DO PALMAR  27170.89        760.00\n",
              "183     SANTA BARBARA DO SUL  29654.02        365.00\n",
              "184           GETULIO VARGAS  16876.33        233.01\n",
              "185          NOVA SANTA RITA  25938.38        310.58\n",
              "186      GUARANI DAS MISSOES  24363.31        172.13\n",
              "\n",
              "[187 rows x 3 columns]"
            ],
            "text/html": [
              "\n",
              "  <div id=\"df-49bf37bb-1ec6-49ae-8e10-1886f66411f1\">\n",
              "    <div class=\"colab-df-container\">\n",
              "      <div>\n",
              "<style scoped>\n",
              "    .dataframe tbody tr th:only-of-type {\n",
              "        vertical-align: middle;\n",
              "    }\n",
              "\n",
              "    .dataframe tbody tr th {\n",
              "        vertical-align: top;\n",
              "    }\n",
              "\n",
              "    .dataframe thead th {\n",
              "        text-align: right;\n",
              "    }\n",
              "</style>\n",
              "<table border=\"1\" class=\"dataframe\">\n",
              "  <thead>\n",
              "    <tr style=\"text-align: right;\">\n",
              "      <th></th>\n",
              "      <th>MUNICIPIO</th>\n",
              "      <th>PIB</th>\n",
              "      <th>VALOREMPENHO</th>\n",
              "    </tr>\n",
              "  </thead>\n",
              "  <tbody>\n",
              "    <tr>\n",
              "      <th>0</th>\n",
              "      <td>SANTANA DO LIVRAMENTO</td>\n",
              "      <td>12240.76</td>\n",
              "      <td>1088666.10</td>\n",
              "    </tr>\n",
              "    <tr>\n",
              "      <th>1</th>\n",
              "      <td>SANTO ANGELO</td>\n",
              "      <td>16575.82</td>\n",
              "      <td>800669.92</td>\n",
              "    </tr>\n",
              "    <tr>\n",
              "      <th>2</th>\n",
              "      <td>SAO FRANCISCO DE ASSIS</td>\n",
              "      <td>12037.61</td>\n",
              "      <td>466122.80</td>\n",
              "    </tr>\n",
              "    <tr>\n",
              "      <th>3</th>\n",
              "      <td>CACAPAVA DO SUL</td>\n",
              "      <td>13674.54</td>\n",
              "      <td>485535.86</td>\n",
              "    </tr>\n",
              "    <tr>\n",
              "      <th>4</th>\n",
              "      <td>SAO GABRIEL</td>\n",
              "      <td>19912.38</td>\n",
              "      <td>533719.86</td>\n",
              "    </tr>\n",
              "    <tr>\n",
              "      <th>...</th>\n",
              "      <td>...</td>\n",
              "      <td>...</td>\n",
              "      <td>...</td>\n",
              "    </tr>\n",
              "    <tr>\n",
              "      <th>182</th>\n",
              "      <td>SANTA VITORIA DO PALMAR</td>\n",
              "      <td>27170.89</td>\n",
              "      <td>760.00</td>\n",
              "    </tr>\n",
              "    <tr>\n",
              "      <th>183</th>\n",
              "      <td>SANTA BARBARA DO SUL</td>\n",
              "      <td>29654.02</td>\n",
              "      <td>365.00</td>\n",
              "    </tr>\n",
              "    <tr>\n",
              "      <th>184</th>\n",
              "      <td>GETULIO VARGAS</td>\n",
              "      <td>16876.33</td>\n",
              "      <td>233.01</td>\n",
              "    </tr>\n",
              "    <tr>\n",
              "      <th>185</th>\n",
              "      <td>NOVA SANTA RITA</td>\n",
              "      <td>25938.38</td>\n",
              "      <td>310.58</td>\n",
              "    </tr>\n",
              "    <tr>\n",
              "      <th>186</th>\n",
              "      <td>GUARANI DAS MISSOES</td>\n",
              "      <td>24363.31</td>\n",
              "      <td>172.13</td>\n",
              "    </tr>\n",
              "  </tbody>\n",
              "</table>\n",
              "<p>187 rows × 3 columns</p>\n",
              "</div>\n",
              "      <button class=\"colab-df-convert\" onclick=\"convertToInteractive('df-49bf37bb-1ec6-49ae-8e10-1886f66411f1')\"\n",
              "              title=\"Convert this dataframe to an interactive table.\"\n",
              "              style=\"display:none;\">\n",
              "        \n",
              "  <svg xmlns=\"http://www.w3.org/2000/svg\" height=\"24px\"viewBox=\"0 0 24 24\"\n",
              "       width=\"24px\">\n",
              "    <path d=\"M0 0h24v24H0V0z\" fill=\"none\"/>\n",
              "    <path d=\"M18.56 5.44l.94 2.06.94-2.06 2.06-.94-2.06-.94-.94-2.06-.94 2.06-2.06.94zm-11 1L8.5 8.5l.94-2.06 2.06-.94-2.06-.94L8.5 2.5l-.94 2.06-2.06.94zm10 10l.94 2.06.94-2.06 2.06-.94-2.06-.94-.94-2.06-.94 2.06-2.06.94z\"/><path d=\"M17.41 7.96l-1.37-1.37c-.4-.4-.92-.59-1.43-.59-.52 0-1.04.2-1.43.59L10.3 9.45l-7.72 7.72c-.78.78-.78 2.05 0 2.83L4 21.41c.39.39.9.59 1.41.59.51 0 1.02-.2 1.41-.59l7.78-7.78 2.81-2.81c.8-.78.8-2.07 0-2.86zM5.41 20L4 18.59l7.72-7.72 1.47 1.35L5.41 20z\"/>\n",
              "  </svg>\n",
              "      </button>\n",
              "      \n",
              "  <style>\n",
              "    .colab-df-container {\n",
              "      display:flex;\n",
              "      flex-wrap:wrap;\n",
              "      gap: 12px;\n",
              "    }\n",
              "\n",
              "    .colab-df-convert {\n",
              "      background-color: #E8F0FE;\n",
              "      border: none;\n",
              "      border-radius: 50%;\n",
              "      cursor: pointer;\n",
              "      display: none;\n",
              "      fill: #1967D2;\n",
              "      height: 32px;\n",
              "      padding: 0 0 0 0;\n",
              "      width: 32px;\n",
              "    }\n",
              "\n",
              "    .colab-df-convert:hover {\n",
              "      background-color: #E2EBFA;\n",
              "      box-shadow: 0px 1px 2px rgba(60, 64, 67, 0.3), 0px 1px 3px 1px rgba(60, 64, 67, 0.15);\n",
              "      fill: #174EA6;\n",
              "    }\n",
              "\n",
              "    [theme=dark] .colab-df-convert {\n",
              "      background-color: #3B4455;\n",
              "      fill: #D2E3FC;\n",
              "    }\n",
              "\n",
              "    [theme=dark] .colab-df-convert:hover {\n",
              "      background-color: #434B5C;\n",
              "      box-shadow: 0px 1px 3px 1px rgba(0, 0, 0, 0.15);\n",
              "      filter: drop-shadow(0px 1px 2px rgba(0, 0, 0, 0.3));\n",
              "      fill: #FFFFFF;\n",
              "    }\n",
              "  </style>\n",
              "\n",
              "      <script>\n",
              "        const buttonEl =\n",
              "          document.querySelector('#df-49bf37bb-1ec6-49ae-8e10-1886f66411f1 button.colab-df-convert');\n",
              "        buttonEl.style.display =\n",
              "          google.colab.kernel.accessAllowed ? 'block' : 'none';\n",
              "\n",
              "        async function convertToInteractive(key) {\n",
              "          const element = document.querySelector('#df-49bf37bb-1ec6-49ae-8e10-1886f66411f1');\n",
              "          const dataTable =\n",
              "            await google.colab.kernel.invokeFunction('convertToInteractive',\n",
              "                                                     [key], {});\n",
              "          if (!dataTable) return;\n",
              "\n",
              "          const docLinkHtml = 'Like what you see? Visit the ' +\n",
              "            '<a target=\"_blank\" href=https://colab.research.google.com/notebooks/data_table.ipynb>data table notebook</a>'\n",
              "            + ' to learn more about interactive tables.';\n",
              "          element.innerHTML = '';\n",
              "          dataTable['output_type'] = 'display_data';\n",
              "          await google.colab.output.renderOutput(dataTable, element);\n",
              "          const docLink = document.createElement('div');\n",
              "          docLink.innerHTML = docLinkHtml;\n",
              "          element.appendChild(docLink);\n",
              "        }\n",
              "      </script>\n",
              "    </div>\n",
              "  </div>\n",
              "  "
            ]
          },
          "metadata": {}
        }
      ]
    },
    {
      "cell_type": "markdown",
      "source": [
        "---\n",
        "ACIMA TEMOS A TABELA DE DADOS SEM A COLUNA \"CODIGO\".\n",
        "\n",
        "---"
      ],
      "metadata": {
        "id": "NbEV3mzgW_ab"
      }
    },
    {
      "cell_type": "code",
      "source": [
        "# GRÁFICO DE DISPERSÃO\n",
        "plt.scatter(bd.MUNICIPIO, bd.PIB, color = 'blue', facecolors = 'none', marker= '.')\n",
        "\n",
        "plt.title(\"PIB e seus respectivos municipios\")\n",
        "plt.xlabel(\"Municípios\")\n",
        "plt.ylabel(\"PIB\")"
      ],
      "metadata": {
        "colab": {
          "base_uri": "https://localhost:8080/",
          "height": 313
        },
        "id": "UzfOK24m7qJ8",
        "outputId": "a3eaaf05-9bc9-4a5a-83aa-d2277020abcc"
      },
      "execution_count": null,
      "outputs": [
        {
          "output_type": "execute_result",
          "data": {
            "text/plain": [
              "Text(0, 0.5, 'PIB')"
            ]
          },
          "metadata": {},
          "execution_count": 31
        },
        {
          "output_type": "display_data",
          "data": {
            "text/plain": [
              "<Figure size 432x288 with 1 Axes>"
            ],
            "image/png": "[encoded data removed]"
          },
          "metadata": {
            "needs_background": "light"
          }
        }
      ]
    },
    {
      "cell_type": "markdown",
      "source": [
        "---\n",
        "ACIMA TEMOS OS DADOS DISPERSOS EM UM GRÁFICO DE DISPERSÃO. PODEMOS VER 3 OUTLINES.\n",
        "\n",
        "---"
      ],
      "metadata": {
        "id": "Ea4cZM8vXYnD"
      }
    },
    {
      "cell_type": "code",
      "source": [
        "h = np.histogram(bd.iloc[:,1], bins = 10)\n",
        "h"
      ],
      "metadata": {
        "colab": {
          "base_uri": "https://localhost:8080/"
        },
        "id": "IaPOQh4s8O3V",
        "outputId": "9e2504fe-df73-4228-d628-7e0902ba6e54"
      },
      "execution_count": null,
      "outputs": [
        {
          "output_type": "execute_result",
          "data": {
            "text/plain": [
              "(array([177,   7,   2,   0,   0,   0,   0,   0,   0,   1]),\n",
              " array([  8236.63 ,  29797.789,  51358.948,  72920.107,  94481.266,\n",
              "        116042.425, 137603.584, 159164.743, 180725.902, 202287.061,\n",
              "        223848.22 ]))"
            ]
          },
          "metadata": {},
          "execution_count": 32
        }
      ]
    },
    {
      "cell_type": "markdown",
      "source": [
        "---\n",
        "ACIMA TEMOS INFORMAÇÕES DO GRÁFICO DE HISTOGRAMA, COM A PRIMEIRA LISTA TRAZENDO A QUANTIDADE DE DADOS POR COLUNA, E A SEGUNDA LISTA MOSTRA ONDE AS COLUNAS VÃO ESTAR NO EIXO X.\n",
        "\n",
        "---"
      ],
      "metadata": {
        "id": "q6RxKniqYZOf"
      }
    },
    {
      "cell_type": "code",
      "source": [
        "plt.hist(bd.iloc[:,1], bins = 10)\n",
        "plt.title(\"Histograma da quantidade de PIB's dentro de um intervalo\")\n",
        "plt.ylabel(\"Quantidade de Município\")\n",
        "plt.xlabel(\"PIB\")"
      ],
      "metadata": {
        "colab": {
          "base_uri": "https://localhost:8080/",
          "height": 312
        },
        "id": "2j_F4WtA8yhQ",
        "outputId": "b162f0fc-f20d-435c-d674-05e87d0f9b9c"
      },
      "execution_count": null,
      "outputs": [
        {
          "output_type": "execute_result",
          "data": {
            "text/plain": [
              "Text(0.5, 0, 'PIB')"
            ]
          },
          "metadata": {},
          "execution_count": 33
        },
        {
          "output_type": "display_data",
          "data": {
            "text/plain": [
              "<Figure size 432x288 with 1 Axes>"
            ],
            "image/png": "[encoded data removed]"
          },
          "metadata": {
            "needs_background": "light"
          }
        }
      ]
    },
    {
      "cell_type": "markdown",
      "source": [
        "---\n",
        "ACIMA TEMOS O GRÁFICO DE HISTOGRAMA.\n",
        "\n",
        "---"
      ],
      "metadata": {
        "id": "hDuYPW3XZPBr"
      }
    },
    {
      "cell_type": "code",
      "source": [
        "srn.distplot(bd.iloc[:,2], hist = True, kde = True, bins = 6, color = 'blue', hist_kws={'edgecolor': 'black'})"
      ],
      "metadata": {
        "colab": {
          "base_uri": "https://localhost:8080/",
          "height": 362
        },
        "id": "2yblIwlI-woG",
        "outputId": "49cb52f4-006a-4073-dfe1-1eba65daf7fa"
      },
      "execution_count": null,
      "outputs": [
        {
          "output_type": "stream",
          "name": "stderr",
          "text": [
            "/usr/local/lib/python3.7/dist-packages/seaborn/distributions.py:2619: FutureWarning: `distplot` is a deprecated function and will be removed in a future version. Please adapt your code to use either `displot` (a figure-level function with similar flexibility) or `histplot` (an axes-level function for histograms).\n",
            "  warnings.warn(msg, FutureWarning)\n"
          ]
        },
        {
          "output_type": "execute_result",
          "data": {
            "text/plain": [
              "<matplotlib.axes._subplots.AxesSubplot at 0x7f3bf8701ed0>"
            ]
          },
          "metadata": {},
          "execution_count": 37
        },
        {
          "output_type": "display_data",
          "data": {
            "text/plain": [
              "<Figure size 432x288 with 1 Axes>"
            ],
            "image/png": "[encoded data removed]"
          },
          "metadata": {
            "needs_background": "light"
          }
        }
      ]
    },
    {
      "cell_type": "markdown",
      "source": [
        "---\n",
        "ACIMA TEMOS O MESMO GRÁFICO DE HISTOGRAMA, MAS COM UMA LINHA DE DENSIDADE.\n",
        "\n",
        "---"
      ],
      "metadata": {
        "id": "rxYCr9ijZzHV"
      }
    },
    {
      "cell_type": "code",
      "source": [
        "plt.boxplot(bd.PIB, vert = False, showfliers = False, notch = False, patch_artist = True)\n",
        "\n",
        "plt.title(\"Histograma do PIB das Cidades\")\n",
        "plt.ylabel(\"\")\n",
        "plt.xlabel(\"PIB\")"
      ],
      "metadata": {
        "colab": {
          "base_uri": "https://localhost:8080/",
          "height": 312
        },
        "id": "GJJloZo0BnaO",
        "outputId": "ee40afce-44fb-47af-c944-6dc6aa3719c9"
      },
      "execution_count": null,
      "outputs": [
        {
          "output_type": "execute_result",
          "data": {
            "text/plain": [
              "Text(0.5, 0, 'PIB')"
            ]
          },
          "metadata": {},
          "execution_count": 42
        },
        {
          "output_type": "display_data",
          "data": {
            "text/plain": [
              "<Figure size 432x288 with 1 Axes>"
            ],
            "image/png": "[encoded data removed]"
          },
          "metadata": {
            "needs_background": "light"
          }
        }
      ]
    },
    {
      "cell_type": "markdown",
      "source": [
        "---\n",
        "ACIMA TEMOS O GRÁFICO DE BOXPLOT, QUE MOSTRA AS CARACTERÍSTICAS DOS DADOS. O PIB DAS CIDADE ESTÃO MAIS CONCENTRADOS ENTRE 14000 A 22000, COM DISTRIBUIÇÃO SIMPLES DOS 8000 AOS 14000 E DOS 22000 3500 APROXIMADAMENTE.\n",
        "\n",
        "---\n",
        "OS GRÁFICOS DE SETOR E DE BARRAS NÃO SÃO EFICIENTES PARA O TIPO DE BASE DE DADOS COLETADOS.\n",
        "\n",
        "---"
      ],
      "metadata": {
        "id": "486f1gb6C7YZ"
      }
    }
  ]
}